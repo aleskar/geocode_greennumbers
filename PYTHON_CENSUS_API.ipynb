{
 "cells": [
  {
   "cell_type": "code",
   "execution_count": 7,
   "id": "general-liverpool",
   "metadata": {},
   "outputs": [],
   "source": [
    "import requests\n",
    "import pandas as pd\n",
    "import io\n",
    "import csv\n",
    "url = 'https://geocoding.geo.census.gov/geocoder/geographies/addressbatch'\n",
    "files = {'addressFile': ('C:\\TEMP\\ADDRESS_SAMPLE.csv', open('C:\\TEMP\\ADDRESS_SAMPLE.csv', 'rb'), 'text/csv')}\n",
    "payload = {'benchmark':'Public_AR_Current','vintage':'Current_Current'}\n",
    "s = requests.post(url, files=files, data=payload)"
   ]
  },
  {
   "cell_type": "code",
   "execution_count": 2,
   "id": "romance-european",
   "metadata": {},
   "outputs": [
    {
     "data": {
      "text/plain": [
       "requests.models.Response"
      ]
     },
     "execution_count": 2,
     "metadata": {},
     "output_type": "execute_result"
    }
   ],
   "source": [
    "type(s)"
   ]
  },
  {
   "cell_type": "code",
   "execution_count": 8,
   "id": "understanding-aaron",
   "metadata": {},
   "outputs": [
    {
     "name": "stdout",
     "output_type": "stream",
     "text": [
      "   0  1                                                    2          \\\n",
      "0  1   1600 Pennsylvania Avenue NW,  Washington, DC, 20500  Match      \n",
      "1  2   4 S Market St, Boston, MA, 02109                     Match      \n",
      "2  3   1200 Getty Center Drive, Los Angeles, CA, 90049      Match      \n",
      "3  4   1800 Congress Ave, Austin, TX, 78701                 Match      \n",
      "4  5   1 Caesars Palace Drive, Las Vegas, NV, 89109         No_Match   \n",
      "5  6   1060 West Addison, Chicago, IL, 60613                Match      \n",
      "6  7   1 East 161st Street, Bronx, NY, 10451                Match      \n",
      "7  8   201 E Jefferson St, Phoenix, AZ, 85004               Match      \n",
      "8  9   600 N 1st Ave, Minneapolis, MN, 55403                No_Match   \n",
      "9  10  400 W Church St, Orlando, FL, 32801                  Match      \n",
      "\n",
      "  3          4                                                 \\\n",
      "0  Exact      1600 PENNSYLVANIA AVE NW, WASHINGTON, DC, 20500   \n",
      "1  Exact      4 S MARKET ST, BOSTON, MA, 02109                  \n",
      "2  Exact      1200 GETTY CENTER DR, LOS ANGELES, CA, 90049      \n",
      "3  Exact      1800 CONGRESS AVE, AUSTIN, TX, 78701              \n",
      "4  NaN        NaN                                               \n",
      "5  Non_Exact  1060 W ADDISON ST, CHICAGO, IL, 60613             \n",
      "6  Exact      1 E 161ST ST, BRONX, NY, 10451                    \n",
      "7  Exact      201 E JEFFERSON ST, PHOENIX, AZ, 85004            \n",
      "8  NaN        NaN                                               \n",
      "9  Exact      400 W CHURCH ST, ORLANDO, FL, 32801               \n",
      "\n",
      "  5                     6           7     8     9      10        11      \n",
      "0  -77.03535,38.898754  76225813.0   L    11.0  1.0    980000.0  1034.0  \n",
      "1  -71.055626,42.35994  85723841.0   R    25.0  25.0   30302.0   1020.0  \n",
      "2  -118.47564,34.08857  142816014.0  L    6.0   37.0   262302.0  1002.0  \n",
      "3  -97.73847,30.279745  63946318.0   L    48.0  453.0  700.0     1006.0  \n",
      "4  NaN                 NaN           NaN NaN   NaN    NaN       NaN      \n",
      "5  -87.65581,41.947227  111863716.0  R    17.0  31.0   61100.0   1008.0  \n",
      "6  -73.928444,40.82916  640809619.0  R    36.0  5.0    6302.0    1003.0  \n",
      "7  -112.07114,33.44675  128300920.0  L    4.0   13.0   114100.0  1057.0  \n",
      "8  NaN                 NaN           NaN NaN   NaN    NaN       NaN      \n",
      "9  -81.38436,28.540176  94416807.0   L    12.0  95.0   10500.0   1001.0  \n"
     ]
    }
   ],
   "source": [
    "df = pd.read_csv(io.StringIO(s.text), sep=',', header=None, quoting=csv.QUOTE_ALL)\n",
    "with pd.option_context(\n",
    "    'display.width', None, \n",
    "    'display.max_columns', None,\n",
    "    'display.max_colwidth', -1,\n",
    "    'display.colheader_justify', 'left'):\n",
    "    print(df)"
   ]
  },
  {
   "cell_type": "code",
   "execution_count": 9,
   "id": "extensive-amber",
   "metadata": {},
   "outputs": [],
   "source": [
    "df.columns = ['ID', 'ADDRESS_IN', 'MATCH_INDICATOR', 'MATCH_TYPE', 'ADDRESS_OUT', 'LONG_LAT', 'TIGER_EDGE', 'STREET_SIDE', 'FIPS_STATE', 'FIPS_COUNTY', 'CENSUS_TRACT', 'CENSUS_BLOCK']"
   ]
  },
  {
   "cell_type": "code",
   "execution_count": 10,
   "id": "compliant-connecticut",
   "metadata": {},
   "outputs": [
    {
     "name": "stdout",
     "output_type": "stream",
     "text": [
      "   ID                                         ADDRESS_IN MATCH_INDICATOR  \\\n",
      "0   1  1600 Pennsylvania Avenue NW,  Washington, DC, ...           Match   \n",
      "1   2                   4 S Market St, Boston, MA, 02109           Match   \n",
      "2   3    1200 Getty Center Drive, Los Angeles, CA, 90049           Match   \n",
      "3   4               1800 Congress Ave, Austin, TX, 78701           Match   \n",
      "4   5       1 Caesars Palace Drive, Las Vegas, NV, 89109        No_Match   \n",
      "5   6              1060 West Addison, Chicago, IL, 60613           Match   \n",
      "6   7              1 East 161st Street, Bronx, NY, 10451           Match   \n",
      "7   8             201 E Jefferson St, Phoenix, AZ, 85004           Match   \n",
      "8   9              600 N 1st Ave, Minneapolis, MN, 55403        No_Match   \n",
      "9  10                400 W Church St, Orlando, FL, 32801           Match   \n",
      "\n",
      "  MATCH_TYPE                                      ADDRESS_OUT  \\\n",
      "0      Exact  1600 PENNSYLVANIA AVE NW, WASHINGTON, DC, 20500   \n",
      "1      Exact                 4 S MARKET ST, BOSTON, MA, 02109   \n",
      "2      Exact     1200 GETTY CENTER DR, LOS ANGELES, CA, 90049   \n",
      "3      Exact             1800 CONGRESS AVE, AUSTIN, TX, 78701   \n",
      "4        NaN                                              NaN   \n",
      "5  Non_Exact            1060 W ADDISON ST, CHICAGO, IL, 60613   \n",
      "6      Exact                   1 E 161ST ST, BRONX, NY, 10451   \n",
      "7      Exact           201 E JEFFERSON ST, PHOENIX, AZ, 85004   \n",
      "8        NaN                                              NaN   \n",
      "9      Exact              400 W CHURCH ST, ORLANDO, FL, 32801   \n",
      "\n",
      "              LONG_LAT   TIGER_EDGE STREET_SIDE  FIPS_STATE  FIPS_COUNTY  \\\n",
      "0  -77.03535,38.898754   76225813.0           L        11.0          1.0   \n",
      "1  -71.055626,42.35994   85723841.0           R        25.0         25.0   \n",
      "2  -118.47564,34.08857  142816014.0           L         6.0         37.0   \n",
      "3  -97.73847,30.279745   63946318.0           L        48.0        453.0   \n",
      "4                  NaN          NaN         NaN         NaN          NaN   \n",
      "5  -87.65581,41.947227  111863716.0           R        17.0         31.0   \n",
      "6  -73.928444,40.82916  640809619.0           R        36.0          5.0   \n",
      "7  -112.07114,33.44675  128300920.0           L         4.0         13.0   \n",
      "8                  NaN          NaN         NaN         NaN          NaN   \n",
      "9  -81.38436,28.540176   94416807.0           L        12.0         95.0   \n",
      "\n",
      "   CENSUS_TRACT  CENSUS_BLOCK  \n",
      "0      980000.0        1034.0  \n",
      "1       30302.0        1020.0  \n",
      "2      262302.0        1002.0  \n",
      "3         700.0        1006.0  \n",
      "4           NaN           NaN  \n",
      "5       61100.0        1008.0  \n",
      "6        6302.0        1003.0  \n",
      "7      114100.0        1057.0  \n",
      "8           NaN           NaN  \n",
      "9       10500.0        1001.0  \n"
     ]
    }
   ],
   "source": [
    "print(df)"
   ]
  },
  {
   "cell_type": "code",
   "execution_count": 6,
   "id": "unauthorized-crowd",
   "metadata": {},
   "outputs": [
    {
     "data": {
      "text/plain": [
       "pandas.core.frame.DataFrame"
      ]
     },
     "execution_count": 6,
     "metadata": {},
     "output_type": "execute_result"
    }
   ],
   "source": [
    "type(df)"
   ]
  }
 ],
 "metadata": {
  "kernelspec": {
   "display_name": "Python 3",
   "language": "python",
   "name": "python3"
  },
  "language_info": {
   "codemirror_mode": {
    "name": "ipython",
    "version": 3
   },
   "file_extension": ".py",
   "mimetype": "text/x-python",
   "name": "python",
   "nbconvert_exporter": "python",
   "pygments_lexer": "ipython3",
   "version": "3.7.9"
  }
 },
 "nbformat": 4,
 "nbformat_minor": 5
}
