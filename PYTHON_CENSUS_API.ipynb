{
 "cells": [
  {
   "cell_type": "code",
   "execution_count": 1,
   "id": "032c6a39",
   "metadata": {},
   "outputs": [
    {
     "name": "stdout",
     "output_type": "stream",
     "text": [
      "Defaulting to user installation because normal site-packages is not writeable\n",
      "Requirement already satisfied: requests in /Users/askarulis/Library/Python/3.9/lib/python/site-packages (2.28.2)\n",
      "Requirement already satisfied: idna<4,>=2.5 in /Users/askarulis/Library/Python/3.9/lib/python/site-packages (from requests) (3.4)\n",
      "Requirement already satisfied: urllib3<1.27,>=1.21.1 in /Users/askarulis/Library/Python/3.9/lib/python/site-packages (from requests) (1.26.15)\n",
      "Requirement already satisfied: charset-normalizer<4,>=2 in /Users/askarulis/Library/Python/3.9/lib/python/site-packages (from requests) (3.1.0)\n",
      "Requirement already satisfied: certifi>=2017.4.17 in /Users/askarulis/Library/Python/3.9/lib/python/site-packages (from requests) (2022.12.7)\n",
      "Note: you may need to restart the kernel to use updated packages.\n"
     ]
    }
   ],
   "source": [
    "pip install requests"
   ]
  },
  {
   "cell_type": "code",
   "execution_count": 2,
   "id": "57f2fff4",
   "metadata": {},
   "outputs": [
    {
     "name": "stdout",
     "output_type": "stream",
     "text": [
      "Defaulting to user installation because normal site-packages is not writeable\n",
      "Requirement already satisfied: pandas in /Users/askarulis/Library/Python/3.9/lib/python/site-packages (1.5.3)\n",
      "Requirement already satisfied: numpy>=1.20.3 in /Users/askarulis/Library/Python/3.9/lib/python/site-packages (from pandas) (1.24.2)\n",
      "Requirement already satisfied: python-dateutil>=2.8.1 in /Users/askarulis/Library/Python/3.9/lib/python/site-packages (from pandas) (2.8.2)\n",
      "Requirement already satisfied: pytz>=2020.1 in /Users/askarulis/Library/Python/3.9/lib/python/site-packages (from pandas) (2023.3)\n",
      "Requirement already satisfied: six>=1.5 in /Library/Developer/CommandLineTools/Library/Frameworks/Python3.framework/Versions/3.9/lib/python3.9/site-packages (from python-dateutil>=2.8.1->pandas) (1.15.0)\n",
      "Note: you may need to restart the kernel to use updated packages.\n"
     ]
    }
   ],
   "source": [
    "pip install pandas"
   ]
  },
  {
   "cell_type": "code",
   "execution_count": 3,
   "id": "9681bcea",
   "metadata": {},
   "outputs": [
    {
     "name": "stdout",
     "output_type": "stream",
     "text": [
      "Defaulting to user installation because normal site-packages is not writeable\n",
      "\u001b[31mERROR: Could not find a version that satisfies the requirement io (from versions: none)\u001b[0m\u001b[31m\n",
      "\u001b[0m\u001b[31mERROR: No matching distribution found for io\u001b[0m\u001b[31m\n",
      "\u001b[0mNote: you may need to restart the kernel to use updated packages.\n"
     ]
    }
   ],
   "source": [
    "pip install io"
   ]
  },
  {
   "cell_type": "code",
   "execution_count": 1,
   "id": "94aa3781",
   "metadata": {},
   "outputs": [
    {
     "name": "stdout",
     "output_type": "stream",
     "text": [
      "Defaulting to user installation because normal site-packages is not writeable\n",
      "\u001b[31mERROR: Could not find a version that satisfies the requirement csv (from versions: none)\u001b[0m\u001b[31m\n",
      "\u001b[0m\u001b[31mERROR: No matching distribution found for csv\u001b[0m\u001b[31m\n",
      "\u001b[0mNote: you may need to restart the kernel to use updated packages.\n"
     ]
    }
   ],
   "source": [
    "pip install csv"
   ]
  },
  {
   "cell_type": "code",
   "execution_count": null,
   "id": "a9547c04",
   "metadata": {},
   "outputs": [],
   "source": [
    "/Users/askarulis/Documents/geocode/geocode_greennumbers/ADDRESS_SAMPLE.csv"
   ]
  },
  {
   "cell_type": "code",
   "execution_count": 13,
   "id": "general-liverpool",
   "metadata": {},
   "outputs": [],
   "source": [
    "import requests\n",
    "import pandas as pd\n",
    "import io\n",
    "import csv\n",
    "url = 'https://geocoding.geo.census.gov/geocoder/geographies/addressbatch'\n",
    "files = {'addressFile': ('/Users/askarulis/Documents/geocode/geocode_greennumbers/ADDRESS_SAMPLE.csv', open('/Users/askarulis/Documents/geocode/geocode_greennumbers/ADDRESS_SAMPLE.csv', 'rb'), 'text/csv')}\n",
    "payload = {'benchmark':'Public_AR_Current','vintage':'Current_Current'}\n",
    "s = requests.post(url, files=files, data=payload)"
   ]
  },
  {
   "cell_type": "code",
   "execution_count": 14,
   "id": "romance-european",
   "metadata": {},
   "outputs": [
    {
     "data": {
      "text/plain": [
       "requests.models.Response"
      ]
     },
     "execution_count": 14,
     "metadata": {},
     "output_type": "execute_result"
    }
   ],
   "source": [
    "type(s)"
   ]
  },
  {
   "cell_type": "code",
   "execution_count": 15,
   "id": "understanding-aaron",
   "metadata": {},
   "outputs": [
    {
     "name": "stdout",
     "output_type": "stream",
     "text": [
      "    0  1                                                    2          \\\n",
      "0   11  2501 W Dry Creek Ct, Littleton, CO, 80120            Match      \n",
      "1   1   1600 Pennsylvania Avenue NW,  Washington, DC, 20500  Match      \n",
      "2   2   4 S Market St, Boston, MA, 02109                     Match      \n",
      "3   3   1200 Getty Center Drive, Los Angeles, CA, 90049      Match      \n",
      "4   4   1800 Congress Ave, Austin, TX, 78701                 Match      \n",
      "5   5   1 Caesars Palace Drive, Las Vegas, NV, 89109         No_Match   \n",
      "6   6   1060 West Addison, Chicago, IL, 60613                Match      \n",
      "7   7   1 East 161st Street, Bronx, NY, 10451                Match      \n",
      "8   8   201 E Jefferson St, Phoenix, AZ, 85004               Match      \n",
      "9   9   600 N 1st Ave, Minneapolis, MN, 55403                Match      \n",
      "10  10  400 W Church St, Orlando, FL, 32801                  Match      \n",
      "\n",
      "   3          4                                                 \\\n",
      "0   Exact      2501 W DRY CREEK CT, LITTLETON, CO, 80120         \n",
      "1   Exact      1600 PENNSYLVANIA AVE NW, WASHINGTON, DC, 20500   \n",
      "2   Exact      4 S MARKET ST, BOSTON, MA, 02109                  \n",
      "3   Exact      1200 GETTY CENTER DR, LOS ANGELES, CA, 90049      \n",
      "4   Exact      1800 CONGRESS AVE, AUSTIN, TX, 78701              \n",
      "5   NaN        NaN                                               \n",
      "6   Non_Exact  1060 W ADDISON ST, CHICAGO, IL, 60613             \n",
      "7   Exact      1 E 161ST ST, BRONX, NY, 10451                    \n",
      "8   Exact      201 E JEFFERSON ST, PHOENIX, AZ, 85004            \n",
      "9   Non_Exact  600 1ST AVE N, MINNEAPOLIS, MN, 55403             \n",
      "10  Exact      400 W CHURCH ST, ORLANDO, FL, 32801               \n",
      "\n",
      "   5                                       6           7     8     9      \\\n",
      "0   -105.02108258699997,39.58019507500006  177519839.0  R    8.0   5.0     \n",
      "1   -77.03654072899997,38.89874352700008   76225813.0   L    11.0  1.0     \n",
      "2   -71.05565386699993,42.35993056700005   85723841.0   R    25.0  25.0    \n",
      "3   -118.47563807999995,34.08856916600007  142816014.0  L    6.0   37.0    \n",
      "4   -97.73847296199995,30.279745125000034  63946318.0   L    48.0  453.0   \n",
      "5   NaN                                   NaN           NaN NaN   NaN      \n",
      "6   -87.65612803199997,41.94722339700007   111863716.0  R    17.0  31.0    \n",
      "7   -73.92843833299997,40.82916056200003   640809619.0  R    36.0  5.0     \n",
      "8   -112.07058944399995,33.44657476500004  128300920.0  L    4.0   13.0    \n",
      "9   -93.27494909199999,44.97956515800007   43631633.0   R    27.0  53.0    \n",
      "10  -81.38395804399994,28.540177980000067  94416807.0   L    12.0  95.0    \n",
      "\n",
      "    10        11      \n",
      "0   5623.0    1012.0  \n",
      "1   980000.0  1034.0  \n",
      "2   30302.0   1020.0  \n",
      "3   262302.0  1002.0  \n",
      "4   700.0     1006.0  \n",
      "5  NaN       NaN      \n",
      "6   61100.0   1008.0  \n",
      "7   6302.0    1003.0  \n",
      "8   114100.0  1057.0  \n",
      "9   126102.0  5015.0  \n",
      "10  10500.0   1001.0  \n"
     ]
    }
   ],
   "source": [
    "df = pd.read_csv(io.StringIO(s.text), sep=',', header=None, quoting=csv.QUOTE_ALL)\n",
    "with pd.option_context(\n",
    "    'display.width', None, \n",
    "    'display.max_columns', None,\n",
    "    'display.max_colwidth', -1,\n",
    "    'display.colheader_justify', 'left'):\n",
    "    print(df)"
   ]
  },
  {
   "cell_type": "code",
   "execution_count": 16,
   "id": "extensive-amber",
   "metadata": {},
   "outputs": [],
   "source": [
    "df.columns = ['ID', 'ADDRESS_IN', 'MATCH_INDICATOR', 'MATCH_TYPE', 'ADDRESS_OUT', 'LONG_LAT', 'TIGER_EDGE', 'STREET_SIDE', 'FIPS_STATE', 'FIPS_COUNTY', 'CENSUS_TRACT', 'CENSUS_BLOCK']"
   ]
  },
  {
   "cell_type": "code",
   "execution_count": 17,
   "id": "compliant-connecticut",
   "metadata": {},
   "outputs": [
    {
     "name": "stdout",
     "output_type": "stream",
     "text": [
      "    ID                                         ADDRESS_IN MATCH_INDICATOR  \\\n",
      "0   11          2501 W Dry Creek Ct, Littleton, CO, 80120           Match   \n",
      "1    1  1600 Pennsylvania Avenue NW,  Washington, DC, ...           Match   \n",
      "2    2                   4 S Market St, Boston, MA, 02109           Match   \n",
      "3    3    1200 Getty Center Drive, Los Angeles, CA, 90049           Match   \n",
      "4    4               1800 Congress Ave, Austin, TX, 78701           Match   \n",
      "5    5       1 Caesars Palace Drive, Las Vegas, NV, 89109        No_Match   \n",
      "6    6              1060 West Addison, Chicago, IL, 60613           Match   \n",
      "7    7              1 East 161st Street, Bronx, NY, 10451           Match   \n",
      "8    8             201 E Jefferson St, Phoenix, AZ, 85004           Match   \n",
      "9    9              600 N 1st Ave, Minneapolis, MN, 55403           Match   \n",
      "10  10                400 W Church St, Orlando, FL, 32801           Match   \n",
      "\n",
      "   MATCH_TYPE                                      ADDRESS_OUT  \\\n",
      "0       Exact        2501 W DRY CREEK CT, LITTLETON, CO, 80120   \n",
      "1       Exact  1600 PENNSYLVANIA AVE NW, WASHINGTON, DC, 20500   \n",
      "2       Exact                 4 S MARKET ST, BOSTON, MA, 02109   \n",
      "3       Exact     1200 GETTY CENTER DR, LOS ANGELES, CA, 90049   \n",
      "4       Exact             1800 CONGRESS AVE, AUSTIN, TX, 78701   \n",
      "5         NaN                                              NaN   \n",
      "6   Non_Exact            1060 W ADDISON ST, CHICAGO, IL, 60613   \n",
      "7       Exact                   1 E 161ST ST, BRONX, NY, 10451   \n",
      "8       Exact           201 E JEFFERSON ST, PHOENIX, AZ, 85004   \n",
      "9   Non_Exact            600 1ST AVE N, MINNEAPOLIS, MN, 55403   \n",
      "10      Exact              400 W CHURCH ST, ORLANDO, FL, 32801   \n",
      "\n",
      "                                 LONG_LAT   TIGER_EDGE STREET_SIDE  \\\n",
      "0   -105.02108258699997,39.58019507500006  177519839.0           R   \n",
      "1    -77.03654072899997,38.89874352700008   76225813.0           L   \n",
      "2    -71.05565386699993,42.35993056700005   85723841.0           R   \n",
      "3   -118.47563807999995,34.08856916600007  142816014.0           L   \n",
      "4   -97.73847296199995,30.279745125000034   63946318.0           L   \n",
      "5                                     NaN          NaN         NaN   \n",
      "6    -87.65612803199997,41.94722339700007  111863716.0           R   \n",
      "7    -73.92843833299997,40.82916056200003  640809619.0           R   \n",
      "8   -112.07058944399995,33.44657476500004  128300920.0           L   \n",
      "9    -93.27494909199999,44.97956515800007   43631633.0           R   \n",
      "10  -81.38395804399994,28.540177980000067   94416807.0           L   \n",
      "\n",
      "    FIPS_STATE  FIPS_COUNTY  CENSUS_TRACT  CENSUS_BLOCK  \n",
      "0          8.0          5.0        5623.0        1012.0  \n",
      "1         11.0          1.0      980000.0        1034.0  \n",
      "2         25.0         25.0       30302.0        1020.0  \n",
      "3          6.0         37.0      262302.0        1002.0  \n",
      "4         48.0        453.0         700.0        1006.0  \n",
      "5          NaN          NaN           NaN           NaN  \n",
      "6         17.0         31.0       61100.0        1008.0  \n",
      "7         36.0          5.0        6302.0        1003.0  \n",
      "8          4.0         13.0      114100.0        1057.0  \n",
      "9         27.0         53.0      126102.0        5015.0  \n",
      "10        12.0         95.0       10500.0        1001.0  \n"
     ]
    }
   ],
   "source": [
    "print(df)"
   ]
  },
  {
   "cell_type": "code",
   "execution_count": 18,
   "id": "unauthorized-crowd",
   "metadata": {},
   "outputs": [
    {
     "data": {
      "text/plain": [
       "pandas.core.frame.DataFrame"
      ]
     },
     "execution_count": 18,
     "metadata": {},
     "output_type": "execute_result"
    }
   ],
   "source": [
    "type(df)"
   ]
  },
  {
   "cell_type": "code",
   "execution_count": 20,
   "id": "c88cf8ae",
   "metadata": {},
   "outputs": [
    {
     "data": {
      "text/html": [
       "<div>\n",
       "<style scoped>\n",
       "    .dataframe tbody tr th:only-of-type {\n",
       "        vertical-align: middle;\n",
       "    }\n",
       "\n",
       "    .dataframe tbody tr th {\n",
       "        vertical-align: top;\n",
       "    }\n",
       "\n",
       "    .dataframe thead th {\n",
       "        text-align: right;\n",
       "    }\n",
       "</style>\n",
       "<table border=\"1\" class=\"dataframe\">\n",
       "  <thead>\n",
       "    <tr style=\"text-align: right;\">\n",
       "      <th></th>\n",
       "      <th>ID</th>\n",
       "      <th>ADDRESS_IN</th>\n",
       "      <th>MATCH_INDICATOR</th>\n",
       "      <th>MATCH_TYPE</th>\n",
       "      <th>ADDRESS_OUT</th>\n",
       "      <th>LONG_LAT</th>\n",
       "      <th>TIGER_EDGE</th>\n",
       "      <th>STREET_SIDE</th>\n",
       "      <th>FIPS_STATE</th>\n",
       "      <th>FIPS_COUNTY</th>\n",
       "      <th>CENSUS_TRACT</th>\n",
       "      <th>CENSUS_BLOCK</th>\n",
       "    </tr>\n",
       "  </thead>\n",
       "  <tbody>\n",
       "    <tr>\n",
       "      <th>0</th>\n",
       "      <td>11</td>\n",
       "      <td>2501 W Dry Creek Ct, Littleton, CO, 80120</td>\n",
       "      <td>Match</td>\n",
       "      <td>Exact</td>\n",
       "      <td>2501 W DRY CREEK CT, LITTLETON, CO, 80120</td>\n",
       "      <td>-105.02108258699997,39.58019507500006</td>\n",
       "      <td>177519839.0</td>\n",
       "      <td>R</td>\n",
       "      <td>8.0</td>\n",
       "      <td>5.0</td>\n",
       "      <td>5623.0</td>\n",
       "      <td>1012.0</td>\n",
       "    </tr>\n",
       "    <tr>\n",
       "      <th>1</th>\n",
       "      <td>1</td>\n",
       "      <td>1600 Pennsylvania Avenue NW,  Washington, DC, ...</td>\n",
       "      <td>Match</td>\n",
       "      <td>Exact</td>\n",
       "      <td>1600 PENNSYLVANIA AVE NW, WASHINGTON, DC, 20500</td>\n",
       "      <td>-77.03654072899997,38.89874352700008</td>\n",
       "      <td>76225813.0</td>\n",
       "      <td>L</td>\n",
       "      <td>11.0</td>\n",
       "      <td>1.0</td>\n",
       "      <td>980000.0</td>\n",
       "      <td>1034.0</td>\n",
       "    </tr>\n",
       "    <tr>\n",
       "      <th>2</th>\n",
       "      <td>2</td>\n",
       "      <td>4 S Market St, Boston, MA, 02109</td>\n",
       "      <td>Match</td>\n",
       "      <td>Exact</td>\n",
       "      <td>4 S MARKET ST, BOSTON, MA, 02109</td>\n",
       "      <td>-71.05565386699993,42.35993056700005</td>\n",
       "      <td>85723841.0</td>\n",
       "      <td>R</td>\n",
       "      <td>25.0</td>\n",
       "      <td>25.0</td>\n",
       "      <td>30302.0</td>\n",
       "      <td>1020.0</td>\n",
       "    </tr>\n",
       "    <tr>\n",
       "      <th>3</th>\n",
       "      <td>3</td>\n",
       "      <td>1200 Getty Center Drive, Los Angeles, CA, 90049</td>\n",
       "      <td>Match</td>\n",
       "      <td>Exact</td>\n",
       "      <td>1200 GETTY CENTER DR, LOS ANGELES, CA, 90049</td>\n",
       "      <td>-118.47563807999995,34.08856916600007</td>\n",
       "      <td>142816014.0</td>\n",
       "      <td>L</td>\n",
       "      <td>6.0</td>\n",
       "      <td>37.0</td>\n",
       "      <td>262302.0</td>\n",
       "      <td>1002.0</td>\n",
       "    </tr>\n",
       "    <tr>\n",
       "      <th>4</th>\n",
       "      <td>4</td>\n",
       "      <td>1800 Congress Ave, Austin, TX, 78701</td>\n",
       "      <td>Match</td>\n",
       "      <td>Exact</td>\n",
       "      <td>1800 CONGRESS AVE, AUSTIN, TX, 78701</td>\n",
       "      <td>-97.73847296199995,30.279745125000034</td>\n",
       "      <td>63946318.0</td>\n",
       "      <td>L</td>\n",
       "      <td>48.0</td>\n",
       "      <td>453.0</td>\n",
       "      <td>700.0</td>\n",
       "      <td>1006.0</td>\n",
       "    </tr>\n",
       "    <tr>\n",
       "      <th>5</th>\n",
       "      <td>5</td>\n",
       "      <td>1 Caesars Palace Drive, Las Vegas, NV, 89109</td>\n",
       "      <td>No_Match</td>\n",
       "      <td>NaN</td>\n",
       "      <td>NaN</td>\n",
       "      <td>NaN</td>\n",
       "      <td>NaN</td>\n",
       "      <td>NaN</td>\n",
       "      <td>NaN</td>\n",
       "      <td>NaN</td>\n",
       "      <td>NaN</td>\n",
       "      <td>NaN</td>\n",
       "    </tr>\n",
       "    <tr>\n",
       "      <th>6</th>\n",
       "      <td>6</td>\n",
       "      <td>1060 West Addison, Chicago, IL, 60613</td>\n",
       "      <td>Match</td>\n",
       "      <td>Non_Exact</td>\n",
       "      <td>1060 W ADDISON ST, CHICAGO, IL, 60613</td>\n",
       "      <td>-87.65612803199997,41.94722339700007</td>\n",
       "      <td>111863716.0</td>\n",
       "      <td>R</td>\n",
       "      <td>17.0</td>\n",
       "      <td>31.0</td>\n",
       "      <td>61100.0</td>\n",
       "      <td>1008.0</td>\n",
       "    </tr>\n",
       "    <tr>\n",
       "      <th>7</th>\n",
       "      <td>7</td>\n",
       "      <td>1 East 161st Street, Bronx, NY, 10451</td>\n",
       "      <td>Match</td>\n",
       "      <td>Exact</td>\n",
       "      <td>1 E 161ST ST, BRONX, NY, 10451</td>\n",
       "      <td>-73.92843833299997,40.82916056200003</td>\n",
       "      <td>640809619.0</td>\n",
       "      <td>R</td>\n",
       "      <td>36.0</td>\n",
       "      <td>5.0</td>\n",
       "      <td>6302.0</td>\n",
       "      <td>1003.0</td>\n",
       "    </tr>\n",
       "    <tr>\n",
       "      <th>8</th>\n",
       "      <td>8</td>\n",
       "      <td>201 E Jefferson St, Phoenix, AZ, 85004</td>\n",
       "      <td>Match</td>\n",
       "      <td>Exact</td>\n",
       "      <td>201 E JEFFERSON ST, PHOENIX, AZ, 85004</td>\n",
       "      <td>-112.07058944399995,33.44657476500004</td>\n",
       "      <td>128300920.0</td>\n",
       "      <td>L</td>\n",
       "      <td>4.0</td>\n",
       "      <td>13.0</td>\n",
       "      <td>114100.0</td>\n",
       "      <td>1057.0</td>\n",
       "    </tr>\n",
       "    <tr>\n",
       "      <th>9</th>\n",
       "      <td>9</td>\n",
       "      <td>600 N 1st Ave, Minneapolis, MN, 55403</td>\n",
       "      <td>Match</td>\n",
       "      <td>Non_Exact</td>\n",
       "      <td>600 1ST AVE N, MINNEAPOLIS, MN, 55403</td>\n",
       "      <td>-93.27494909199999,44.97956515800007</td>\n",
       "      <td>43631633.0</td>\n",
       "      <td>R</td>\n",
       "      <td>27.0</td>\n",
       "      <td>53.0</td>\n",
       "      <td>126102.0</td>\n",
       "      <td>5015.0</td>\n",
       "    </tr>\n",
       "    <tr>\n",
       "      <th>10</th>\n",
       "      <td>10</td>\n",
       "      <td>400 W Church St, Orlando, FL, 32801</td>\n",
       "      <td>Match</td>\n",
       "      <td>Exact</td>\n",
       "      <td>400 W CHURCH ST, ORLANDO, FL, 32801</td>\n",
       "      <td>-81.38395804399994,28.540177980000067</td>\n",
       "      <td>94416807.0</td>\n",
       "      <td>L</td>\n",
       "      <td>12.0</td>\n",
       "      <td>95.0</td>\n",
       "      <td>10500.0</td>\n",
       "      <td>1001.0</td>\n",
       "    </tr>\n",
       "  </tbody>\n",
       "</table>\n",
       "</div>"
      ],
      "text/plain": [
       "    ID                                         ADDRESS_IN MATCH_INDICATOR  \\\n",
       "0   11          2501 W Dry Creek Ct, Littleton, CO, 80120           Match   \n",
       "1    1  1600 Pennsylvania Avenue NW,  Washington, DC, ...           Match   \n",
       "2    2                   4 S Market St, Boston, MA, 02109           Match   \n",
       "3    3    1200 Getty Center Drive, Los Angeles, CA, 90049           Match   \n",
       "4    4               1800 Congress Ave, Austin, TX, 78701           Match   \n",
       "5    5       1 Caesars Palace Drive, Las Vegas, NV, 89109        No_Match   \n",
       "6    6              1060 West Addison, Chicago, IL, 60613           Match   \n",
       "7    7              1 East 161st Street, Bronx, NY, 10451           Match   \n",
       "8    8             201 E Jefferson St, Phoenix, AZ, 85004           Match   \n",
       "9    9              600 N 1st Ave, Minneapolis, MN, 55403           Match   \n",
       "10  10                400 W Church St, Orlando, FL, 32801           Match   \n",
       "\n",
       "   MATCH_TYPE                                      ADDRESS_OUT  \\\n",
       "0       Exact        2501 W DRY CREEK CT, LITTLETON, CO, 80120   \n",
       "1       Exact  1600 PENNSYLVANIA AVE NW, WASHINGTON, DC, 20500   \n",
       "2       Exact                 4 S MARKET ST, BOSTON, MA, 02109   \n",
       "3       Exact     1200 GETTY CENTER DR, LOS ANGELES, CA, 90049   \n",
       "4       Exact             1800 CONGRESS AVE, AUSTIN, TX, 78701   \n",
       "5         NaN                                              NaN   \n",
       "6   Non_Exact            1060 W ADDISON ST, CHICAGO, IL, 60613   \n",
       "7       Exact                   1 E 161ST ST, BRONX, NY, 10451   \n",
       "8       Exact           201 E JEFFERSON ST, PHOENIX, AZ, 85004   \n",
       "9   Non_Exact            600 1ST AVE N, MINNEAPOLIS, MN, 55403   \n",
       "10      Exact              400 W CHURCH ST, ORLANDO, FL, 32801   \n",
       "\n",
       "                                 LONG_LAT   TIGER_EDGE STREET_SIDE  \\\n",
       "0   -105.02108258699997,39.58019507500006  177519839.0           R   \n",
       "1    -77.03654072899997,38.89874352700008   76225813.0           L   \n",
       "2    -71.05565386699993,42.35993056700005   85723841.0           R   \n",
       "3   -118.47563807999995,34.08856916600007  142816014.0           L   \n",
       "4   -97.73847296199995,30.279745125000034   63946318.0           L   \n",
       "5                                     NaN          NaN         NaN   \n",
       "6    -87.65612803199997,41.94722339700007  111863716.0           R   \n",
       "7    -73.92843833299997,40.82916056200003  640809619.0           R   \n",
       "8   -112.07058944399995,33.44657476500004  128300920.0           L   \n",
       "9    -93.27494909199999,44.97956515800007   43631633.0           R   \n",
       "10  -81.38395804399994,28.540177980000067   94416807.0           L   \n",
       "\n",
       "    FIPS_STATE  FIPS_COUNTY  CENSUS_TRACT  CENSUS_BLOCK  \n",
       "0          8.0          5.0        5623.0        1012.0  \n",
       "1         11.0          1.0      980000.0        1034.0  \n",
       "2         25.0         25.0       30302.0        1020.0  \n",
       "3          6.0         37.0      262302.0        1002.0  \n",
       "4         48.0        453.0         700.0        1006.0  \n",
       "5          NaN          NaN           NaN           NaN  \n",
       "6         17.0         31.0       61100.0        1008.0  \n",
       "7         36.0          5.0        6302.0        1003.0  \n",
       "8          4.0         13.0      114100.0        1057.0  \n",
       "9         27.0         53.0      126102.0        5015.0  \n",
       "10        12.0         95.0       10500.0        1001.0  "
      ]
     },
     "metadata": {},
     "output_type": "display_data"
    }
   ],
   "source": [
    "display(df)"
   ]
  },
  {
   "cell_type": "code",
   "execution_count": null,
   "id": "67786304",
   "metadata": {},
   "outputs": [],
   "source": []
  }
 ],
 "metadata": {
  "kernelspec": {
   "display_name": "Python 3",
   "language": "python",
   "name": "python3"
  },
  "language_info": {
   "codemirror_mode": {
    "name": "ipython",
    "version": 3
   },
   "file_extension": ".py",
   "mimetype": "text/x-python",
   "name": "python",
   "nbconvert_exporter": "python",
   "pygments_lexer": "ipython3",
   "version": "3.9.6"
  }
 },
 "nbformat": 4,
 "nbformat_minor": 5
}
